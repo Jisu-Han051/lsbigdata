{
  "cells": [
    {
      "cell_type": "markdown",
      "metadata": {
        "id": "OihygaFT4VhB"
      },
      "source": [
        "\n",
        "---\n",
        "# 문제 1\n",
        "\n",
        "정수 n이 주어졌을 때, n보다 작으면서 3의 배수를 출력하는 함수를 작성하세요.\n"
      ]
    },
    {
      "cell_type": "code",
      "execution_count": null,
      "metadata": {
        "vscode": {
          "languageId": "r"
        },
        "id": "jN-GBRrr4VhC"
      },
      "outputs": [],
      "source": [
        "# 입력 예시\n",
        "n = 10\n",
        "print_multiples_of_three(n)\n",
        "\n",
        "#출력 예시\n",
        "3, 6, 9"
      ]
    },
    {
      "cell_type": "markdown",
      "metadata": {
        "id": "rOTJWwFt4VhE"
      },
      "source": [
        "\n",
        "### 답안 작성\n"
      ]
    },
    {
      "cell_type": "code",
      "execution_count": null,
      "metadata": {
        "vscode": {
          "languageId": "r"
        },
        "id": "sJGNsQ5J4VhF"
      },
      "outputs": [],
      "source": []
    },
    {
      "cell_type": "markdown",
      "metadata": {
        "id": "ibSKunX94VhI"
      },
      "source": [
        "\n",
        "\n",
        "---\n",
        "# 문제 2\n",
        "\n",
        "리스트가 주어졌을 때, 평균보다 큰 숫자의 합을 구하는 함수를 작성하세요.\n"
      ]
    },
    {
      "cell_type": "code",
      "execution_count": null,
      "metadata": {
        "vscode": {
          "languageId": "r"
        },
        "id": "UUPO9ESH4VhJ"
      },
      "outputs": [],
      "source": [
        "# 입력 예시\n",
        "numbers = [1, 3, 5, 7, 9]\n",
        "print(sum_above_average(numbers))\n",
        "\n",
        "#출력 예시\n",
        "16"
      ]
    },
    {
      "cell_type": "markdown",
      "metadata": {
        "id": "sOHz0gnR4VhJ"
      },
      "source": [
        "\n",
        "### 답안 작성\n"
      ]
    },
    {
      "cell_type": "code",
      "execution_count": null,
      "metadata": {
        "vscode": {
          "languageId": "r"
        },
        "id": "nmtpAxdK4VhJ"
      },
      "outputs": [],
      "source": []
    },
    {
      "cell_type": "markdown",
      "metadata": {
        "id": "-UNLlFxS4VhJ"
      },
      "source": [
        "\n",
        "\n",
        "---\n",
        "# 문제 3\n",
        "\n",
        "문자열 s와 숫자 n이 주어집니다. 문자열 s를 n번 반복해서 출력하는 함수를 작성하세요."
      ]
    },
    {
      "cell_type": "code",
      "execution_count": null,
      "metadata": {
        "vscode": {
          "languageId": "r"
        },
        "id": "NvfigWNV4VhK"
      },
      "outputs": [],
      "source": [
        "# 입력 예시\n",
        "s = \"안녕\"\n",
        "n = 3\n",
        "print(repeat_string(s, n))\n",
        "\n",
        "# 출력 예시\n",
        "안녕안녕안녕"
      ]
    },
    {
      "cell_type": "markdown",
      "metadata": {
        "id": "XxvILQL14VhK"
      },
      "source": [
        "\n",
        "### 답안 작성\n"
      ]
    },
    {
      "cell_type": "code",
      "execution_count": null,
      "metadata": {
        "vscode": {
          "languageId": "r"
        },
        "id": "eMsxW6Zp4VhK"
      },
      "outputs": [],
      "source": []
    },
    {
      "cell_type": "markdown",
      "metadata": {
        "id": "fZeVIC-a4VhK"
      },
      "source": [
        "\n",
        "---\n",
        "# 문제 4\n",
        "\n",
        "정수 리스트가 주어졌을 때, 중복을 제거하고 각 숫자를 오름차순으로 정렬하여 반환하는 함수를 작성하세요.\n"
      ]
    },
    {
      "cell_type": "code",
      "execution_count": null,
      "metadata": {
        "vscode": {
          "languageId": "r"
        },
        "id": "vvCjsAcO4VhK"
      },
      "outputs": [],
      "source": [
        "# 입력 예시\n",
        "nums = [4, 2, 2, 1, 3, 3, 5, 1]\n",
        "print(remove_duplicates(nums))\n",
        "\n",
        "# 출력 예시\n",
        "[1, 2, 3, 4, 5]"
      ]
    },
    {
      "cell_type": "markdown",
      "metadata": {
        "id": "z61B2dEc4VhK"
      },
      "source": [
        "### 답안 작성\n"
      ]
    },
    {
      "cell_type": "code",
      "execution_count": null,
      "metadata": {
        "vscode": {
          "languageId": "r"
        },
        "id": "4lwIQ3Iz4VhK"
      },
      "outputs": [],
      "source": []
    },
    {
      "cell_type": "markdown",
      "metadata": {
        "id": "nmIF0QNK4VhK"
      },
      "source": [
        "\n",
        "---\n",
        "# 문제 5\n",
        "\n",
        "정수 n이 주어졌을 때, n의 숫자를 뒤집어서 반환하는 함수를 작성하세요.\n"
      ]
    },
    {
      "cell_type": "code",
      "execution_count": null,
      "metadata": {
        "vscode": {
          "languageId": "r"
        },
        "id": "Xq3oPtpF4VhK"
      },
      "outputs": [],
      "source": [
        "# 입력 예시 (1)\n",
        "n = 12345\n",
        "print(reverse_number(n))\n",
        "\n",
        "# 출력 예시 (1)\n",
        "54321\n",
        "\n",
        "\n",
        "# 입력 예시 (2)\n",
        "n = -12345\n",
        "print(reverse_number(n))\n",
        "\n",
        "# 출력 예시 (2)\n",
        "-54321"
      ]
    },
    {
      "cell_type": "markdown",
      "metadata": {
        "id": "lcryuDmk4VhL"
      },
      "source": [
        "### 답안 작성\n"
      ]
    },
    {
      "cell_type": "code",
      "execution_count": null,
      "metadata": {
        "vscode": {
          "languageId": "r"
        },
        "id": "zKCadaSb4VhL"
      },
      "outputs": [],
      "source": []
    }
  ],
  "metadata": {
    "anaconda-cloud": "",
    "kernelspec": {
      "display_name": "Python 3",
      "name": "python3"
    },
    "language_info": {
      "name": "python"
    },
    "colab": {
      "provenance": []
    }
  },
  "nbformat": 4,
  "nbformat_minor": 0
}